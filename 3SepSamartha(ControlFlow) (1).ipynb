{
 "cells": [
  {
   "cell_type": "code",
   "execution_count": null,
   "id": "50f698fb-4acf-4a0f-9f9b-2f0bde4dc4f9",
   "metadata": {},
   "outputs": [],
   "source": [
    "                # Control Flow"
   ]
  },
  {
   "cell_type": "code",
   "execution_count": null,
   "id": "18d12048-7463-4464-847f-49791a16ad3b",
   "metadata": {},
   "outputs": [],
   "source": [
    "# Basic If-Else Statements:"
   ]
  },
  {
   "cell_type": "code",
   "execution_count": 1,
   "id": "ebf74e5b-255d-4c90-a1ff-f975749b4730",
   "metadata": {},
   "outputs": [
    {
     "name": "stdout",
     "output_type": "stream",
     "text": [
      "Number is negative\n"
     ]
    }
   ],
   "source": [
    "'''1. Write a Python program to check if a given number is positive or negative.'''\n",
    "\n",
    "#code\n",
    "a = -3\n",
    "if a > 0:\n",
    "    print(\"Number is positive\")\n",
    "else:\n",
    "    print(\"Number is negative\")"
   ]
  },
  {
   "cell_type": "code",
   "execution_count": 2,
   "id": "5fd24db0-9d6a-42b4-9009-38bfaee50e6b",
   "metadata": {},
   "outputs": [
    {
     "name": "stdout",
     "output_type": "stream",
     "text": [
      "Person is eligible to vote\n"
     ]
    }
   ],
   "source": [
    "'''2. Create a program that determines if a person is eligible to vote based on their age.'''\n",
    "\n",
    "#code\n",
    "vote = 23\n",
    "if vote > 18:\n",
    "    print(\"Person is eligible to vote\")\n",
    "else:\n",
    "    print(\"Person is  not eligible to vote\")"
   ]
  },
  {
   "cell_type": "code",
   "execution_count": 3,
   "id": "b2ba994b-715a-4b5b-8cd1-822a7a6d2f8f",
   "metadata": {},
   "outputs": [
    {
     "name": "stdout",
     "output_type": "stream",
     "text": [
      "b is greater than a\n"
     ]
    }
   ],
   "source": [
    "'''3. Develop a program to find the maximum of two numbers using if-else statements.'''\n",
    "\n",
    "#code\n",
    "a = 3\n",
    "b = 8\n",
    "if a > b:\n",
    "    print(\"a is greater than b\")\n",
    "else:\n",
    "    print(\"b is greater than a\")"
   ]
  },
  {
   "cell_type": "code",
   "execution_count": 8,
   "id": "cfb62806-1d6e-4c2a-82c1-f0247ac1eb39",
   "metadata": {},
   "outputs": [
    {
     "name": "stdin",
     "output_type": "stream",
     "text": [
      "Enter a year: 2005\n"
     ]
    },
    {
     "name": "stdout",
     "output_type": "stream",
     "text": [
      "This is not a leap year:  2005\n"
     ]
    }
   ],
   "source": [
    "'''4. Write a Python script to classify a given year as a leap year or not.'''\n",
    "\n",
    "# code\n",
    "year = int(input(\"Enter a year:\"))\n",
    "# divided by 100 means century year (ending with 00)\n",
    "# century year divided by 400 is leap year\n",
    "if (year % 400 == 0) and (year % 100 == 0):\n",
    "    print(\"This is a leap year: \", year)\n",
    "else:\n",
    "    print(\"This is not a leap year: \", year)"
   ]
  },
  {
   "cell_type": "code",
   "execution_count": 10,
   "id": "0753731f-15bd-4b91-8fe1-c880918f8ac3",
   "metadata": {},
   "outputs": [
    {
     "name": "stdout",
     "output_type": "stream",
     "text": [
      "Given character is a vowel\n"
     ]
    }
   ],
   "source": [
    "'''5. Create a program that checks whether a character is a vowel or a consonant.'''\n",
    "\n",
    "# code\n",
    "char = 'a'\n",
    "if (char=='a' or char=='e' or char=='i' or char=='o' or char=='u' or\n",
    "    char=='A' or char=='E' or char=='I' or char=='o' or char=='u'):\n",
    "    print(\"Given character is a vowel\")\n",
    "else:\n",
    "    print(\"Given character is a consonant\")"
   ]
  },
  {
   "cell_type": "code",
   "execution_count": 12,
   "id": "91fec7b3-5049-4a36-9b25-f0cfc3698ec5",
   "metadata": {},
   "outputs": [
    {
     "name": "stdin",
     "output_type": "stream",
     "text": [
      "Enter the number:  10\n"
     ]
    },
    {
     "name": "stdout",
     "output_type": "stream",
     "text": [
      "Given number is a even number 10\n"
     ]
    }
   ],
   "source": [
    "'''6. Implement a program to determine whether a given number is even or odd.'''\n",
    "\n",
    "#code\n",
    "num = int(input(\"Enter the number: \"))\n",
    "if (num % 2) == 0:\n",
    "    print(\"Given number is a even number\", num)\n",
    "else:\n",
    "    print(\"Given number is a odd number\",num)"
   ]
  },
  {
   "cell_type": "code",
   "execution_count": 4,
   "id": "f04f0a95-d98c-422f-81f7-1a5b26a9bf86",
   "metadata": {},
   "outputs": [
    {
     "name": "stdout",
     "output_type": "stream",
     "text": [
      "10\n",
      "20\n",
      "0\n"
     ]
    }
   ],
   "source": [
    "'''7. Write a Python function to calculate the absolute value of a number without using the `abs()` function.'''\n",
    "# The magnitude of a real number without regard to its sign\n",
    "# code\n",
    "def absolute_value(n2):\n",
    "    if n2 >= 0:\n",
    "        return n2\n",
    "    else:\n",
    "        return -n2\n",
    "# Test the function with +,-,0\n",
    "print(absolute_value(10))\n",
    "print(absolute_value(-20))\n",
    "print(absolute_value(0))"
   ]
  },
  {
   "cell_type": "code",
   "execution_count": 11,
   "id": "7bcaa013-651f-4aca-ba9d-f8b8b226ce09",
   "metadata": {},
   "outputs": [
    {
     "name": "stdout",
     "output_type": "stream",
     "text": [
      "Largest of the three numbers:  56\n"
     ]
    }
   ],
   "source": [
    "'''8. Develop a program that determines the largest of three given numbers using if-else statements.'''\n",
    "\n",
    "#code\n",
    "n1=78\n",
    "n2=90\n",
    "n3=56\n",
    "\n",
    "num=0\n",
    "if (a > b) and (a > c):\n",
    "    num = n1          \n",
    "if (b > a) and (b > c):\n",
    "    num = n2\n",
    "else:\n",
    "    num = n3\n",
    "print(\"Largest of the three numbers: \",num)         "
   ]
  },
  {
   "cell_type": "code",
   "execution_count": 16,
   "id": "4cf159c9-3d4a-47f5-9279-eb26098d2fde",
   "metadata": {},
   "outputs": [
    {
     "name": "stdin",
     "output_type": "stream",
     "text": [
      "Enter the String MADAM\n"
     ]
    },
    {
     "name": "stdout",
     "output_type": "stream",
     "text": [
      "Given string is a palindrome\n"
     ]
    }
   ],
   "source": [
    "'''9. Create a program that checks if a given string is a palindrome.'''\n",
    "\n",
    "#code\n",
    "s=input(\"Enter the String\")\n",
    "if (s == s[::-1]):\n",
    "    print(\"Given string is a palindrome\")\n",
    "else:\n",
    "     print(\"Given string is  not a  palindrome\")"
   ]
  },
  {
   "cell_type": "code",
   "execution_count": 20,
   "id": "97d658e4-54a2-40c6-bf4e-93c8a19e4070",
   "metadata": {},
   "outputs": [
    {
     "name": "stdout",
     "output_type": "stream",
     "text": [
      "Excellent performance your grade is A+\n"
     ]
    }
   ],
   "source": [
    "'''10. Write a Python program to calculate the grade based on a student's score.'''\n",
    "\n",
    "# code\n",
    "score=95\n",
    "if score >=60:\n",
    "    print(\"Excellent performance your grade is A+\")\n",
    "else:\n",
    "    print(\"Bad performance your grade is c\")"
   ]
  },
  {
   "cell_type": "code",
   "execution_count": null,
   "id": "fbc79129-f68b-49ff-80f0-a37b4523ed97",
   "metadata": {},
   "outputs": [],
   "source": []
  },
  {
   "cell_type": "code",
   "execution_count": null,
   "id": "1f8e8c1b-2a1a-4106-b77c-0f5776f2d6e0",
   "metadata": {},
   "outputs": [],
   "source": [
    "# Nested If-Else Statements:"
   ]
  },
  {
   "cell_type": "code",
   "execution_count": 21,
   "id": "5f3f6d9a-fa3d-4101-9237-481193386b7c",
   "metadata": {},
   "outputs": [
    {
     "name": "stdout",
     "output_type": "stream",
     "text": [
      "The greater of the three number by nested if-else:  2\n"
     ]
    }
   ],
   "source": [
    "'''11. Write a program to find the largest among three numbers using nested if-else statements.'''\n",
    "\n",
    "# code\n",
    "a = 2\n",
    "b = -7\n",
    "c = -4\n",
    "g = 0\n",
    "if a > b:\n",
    "    if a > c:\n",
    "        g = a\n",
    "    else:\n",
    "        g = c\n",
    "else:\n",
    "    if b > c:\n",
    "        g = b\n",
    "    else:\n",
    "        g = c\n",
    "print(\"The greater of the three number by nested if-else: \", g)"
   ]
  },
  {
   "cell_type": "code",
   "execution_count": 30,
   "id": "f1c8205c-2a50-4dae-8bc6-7afde2c54428",
   "metadata": {},
   "outputs": [
    {
     "name": "stdout",
     "output_type": "stream",
     "text": [
      "Triangle is Isoscles\n"
     ]
    }
   ],
   "source": [
    "'''12. Implement a program to determine if a triangle is equilateral, isosceles, or scalene.'''\n",
    "\n",
    "# code\n",
    "x = 4\n",
    "y = 7\n",
    "z = 4\n",
    "tri = 0\n",
    "if x == y:\n",
    "    if y == x:\n",
    "        print(\"Triangle is Equilateral\") \n",
    "    else:\n",
    "        print(\"Triangle is Isoscles or scalene\")\n",
    "else:\n",
    "    if x == y or y == z or z == x:\n",
    "        print(\"Triangle is Isoscles\")\n",
    "    else:\n",
    "        print(\"Triangle is Scalene\")\n",
    "    "
   ]
  },
  {
   "cell_type": "code",
   "execution_count": 34,
   "id": "6495a4f7-5621-4c68-8001-fd77ad7d9695",
   "metadata": {},
   "outputs": [
    {
     "name": "stdout",
     "output_type": "stream",
     "text": [
      "2000 is a leap year\n",
      "2016 is a leap year\n",
      "2100 is not a leap year\n"
     ]
    }
   ],
   "source": [
    "'''13. Develop a program that checks if a year is a leap year and also if it is a century year.'''\n",
    "\n",
    "# code\n",
    "def check_leap_year(year):   \n",
    "    if year % 4 == 0:\n",
    "        if year % 100 == 0:\n",
    "            if year % 400 == 0:\n",
    "                print(f\"{year} is a leap year\")\n",
    "            else:\n",
    "                print(f\"{year} is not a leap year\")\n",
    "        else:\n",
    "            print(f\"{year} is a leap year\")\n",
    "    else:\n",
    "        print(f\"{year} is not a leap year\")\n",
    "check_leap_year(2000)\n",
    "check_leap_year(2016)  \n",
    "check_leap_year(2100)"
   ]
  },
  {
   "cell_type": "code",
   "execution_count": 56,
   "id": "a23ae49e-ec74-4cbd-a554-b5fd5bad1b79",
   "metadata": {},
   "outputs": [
    {
     "name": "stdout",
     "output_type": "stream",
     "text": [
      "Positive\n",
      "Equal to zero\n",
      "Negative\n"
     ]
    }
   ],
   "source": [
    "'''14. Write a Python script to determine if a number is positive, negative, or zero.'''\n",
    "\n",
    "# code\n",
    "def check(n):\n",
    "    if n > 0:\n",
    "        if n == 0:\n",
    "            print(\"Negative\")\n",
    "        else:\n",
    "            print(\"Positive\")\n",
    "    else:\n",
    "        if n < 0:\n",
    "            print(\"Negative\")\n",
    "        else:\n",
    "            print(\"Equal to zero\")\n",
    "# Driver Code\n",
    "check(5)\n",
    "check(0)\n",
    "check(-5)"
   ]
  },
  {
   "cell_type": "code",
   "execution_count": 70,
   "id": "a6f3302f-6713-4543-8967-4eeafc29102d",
   "metadata": {},
   "outputs": [
    {
     "name": "stdin",
     "output_type": "stream",
     "text": [
      "Please enter a persons age. 14\n"
     ]
    },
    {
     "name": "stdout",
     "output_type": "stream",
     "text": [
      "The person is a teenager\n"
     ]
    }
   ],
   "source": [
    "'''15. Create a program to check if a person is a teenager (between 13 and 19 years old).'''\n",
    "\n",
    "# code\n",
    "age = int(input('Please enter a persons age.'))\n",
    "if age == 13:\n",
    "    if age > 13:\n",
    "        print('The person is a teenager.')\n",
    "    else:\n",
    "        print('person is an adult')\n",
    "else:\n",
    "    if age > 13 and  age < 13:\n",
    "        print('The person is a child.')\n",
    "    else:\n",
    "        print('The person is a teenager')"
   ]
  },
  {
   "cell_type": "code",
   "execution_count": 5,
   "id": "94369260-c60e-476d-8e92-a520a81d2850",
   "metadata": {
    "tags": []
   },
   "outputs": [
    {
     "name": "stdout",
     "output_type": "stream",
     "text": [
      "Input lengths of the triangle sides:\n"
     ]
    },
    {
     "name": "stdin",
     "output_type": "stream",
     "text": [
      "x:  2\n",
      "y:  2\n",
      "z:  2\n"
     ]
    },
    {
     "name": "stdout",
     "output_type": "stream",
     "text": [
      "Equilateral triangle\n"
     ]
    }
   ],
   "source": [
    "## '''16. Develop a program that determines the type of angle based on its measure (acute, obtuse, or right).'''\n",
    "\n",
    "# code\n",
    "print(\"Input lengths of the triangle sides:\")\n",
    "x = int(input(\"x: \"))\n",
    "y = int(input(\"y: \"))\n",
    "z = int(input(\"z: \"))\n",
    "if x == y:\n",
    "    if y == x:\n",
    "        print(\"Equilateral triangle\")\n",
    "    else:\n",
    "        print(\"isosceles or Scalene triangle\")\n",
    "else:\n",
    "    if x == y:\n",
    "        print(\"scalene triangle\")\n",
    "    else:\n",
    "        print(\"isosceles triangle\")   "
   ]
  },
  {
   "cell_type": "code",
   "execution_count": 1,
   "id": "642158f0-a9de-4ca2-b648-dc47eee39844",
   "metadata": {},
   "outputs": [
    {
     "name": "stdin",
     "output_type": "stream",
     "text": [
      "Enter a:  1\n",
      "Enter b:  2\n",
      "Enter c:  1\n"
     ]
    },
    {
     "name": "stdout",
     "output_type": "stream",
     "text": [
      "The solution are (-1+0j) and (-1+0j)\n"
     ]
    }
   ],
   "source": [
    "'''17. Write a Python program to calculate the roots of a quadratic equation.'''\n",
    "\n",
    "# code\n",
    "import cmath  \n",
    "a = float(input('Enter a: '))  \n",
    "b = float(input('Enter b: '))  \n",
    "c = float(input('Enter c: '))  \n",
    "  \n",
    "# calculate the discriminant  \n",
    "d = (b**2) - (4*a*c)  \n",
    "  \n",
    "# find two solutions  \n",
    "sol1 = (-b-cmath.sqrt(d))/(2*a)  \n",
    "sol2 = (-b+cmath.sqrt(d))/(2*a)  \n",
    "print('The solution are {0} and {1}'.format(sol1,sol2))   "
   ]
  },
  {
   "cell_type": "code",
   "execution_count": 25,
   "id": "54439af6-5fdc-43c7-b4a6-e5596ada7118",
   "metadata": {},
   "outputs": [
    {
     "name": "stdin",
     "output_type": "stream",
     "text": [
      "Enter the number for days of week:  1\n"
     ]
    },
    {
     "name": "stdout",
     "output_type": "stream",
     "text": [
      "Day is Monday\n",
      "No day\n"
     ]
    }
   ],
   "source": [
    "'''18. Implement a program to determine the day of the week based on a user-provided number (1 for Monday, 2\n",
    "for Tuesday, etc.).'''\n",
    "\n",
    "# code\n",
    "day = int(input(\"Enter the number for days of week: \"))\n",
    "\n",
    "if day == 1:\n",
    "    print(\"Day is Monday\")\n",
    "if day == 2:\n",
    "    print(\"Day is Tuesday\")\n",
    "if day == 3:\n",
    "    print(\"Day is Wednesday\")\n",
    "if day == 4:\n",
    "    print(\"Day is Thursday\")\n",
    "if day == 5:\n",
    "    print(\"Day is Friday\")    \n",
    "if day == 6:\n",
    "    print(\"Day is Saturday\")\n",
    "if day == 7:\n",
    "    print(\"Day is Sunday\")\n",
    "else: (day > 7)\n",
    "print(\"No day\")\n"
   ]
  },
  {
   "cell_type": "code",
   "execution_count": 26,
   "id": "cfadf06f-83b0-4762-8016-3b251e083759",
   "metadata": {},
   "outputs": [
    {
     "name": "stdin",
     "output_type": "stream",
     "text": [
      "Enter a year: 2000\n"
     ]
    },
    {
     "name": "stdout",
     "output_type": "stream",
     "text": [
      "This is a leap year:  2000\n"
     ]
    }
   ],
   "source": [
    "'''19. Create a program that determines if a year is a leap year and also if it is evenly divisible by 400.'''\n",
    "\n",
    "# code\n",
    "year = int(input(\"Enter a year:\"))\n",
    "# divided by 100 means century year (ending with 00)\n",
    "# century year divided by 400 is leap year\n",
    "if (year % 400 == 0) and (year % 100 == 0):\n",
    "    print(\"This is a leap year: \", year)\n",
    "else:\n",
    "    print(\"This is not a leap year: \", year)"
   ]
  },
  {
   "cell_type": "code",
   "execution_count": 27,
   "id": "4c187be5-429c-466f-a2b6-785dc8174239",
   "metadata": {},
   "outputs": [
    {
     "name": "stdout",
     "output_type": "stream",
     "text": [
      "11 is a prime number\n"
     ]
    }
   ],
   "source": [
    "'''20. Develop a program that checks if a given number is prime or not using nested if-else statements.'''\n",
    "\n",
    "# code\n",
    "num = 11\n",
    "if num > 1:\n",
    "    # Iterate from 2 to n / 2\n",
    "    for i in range(2, int(num/2)+1):\n",
    "        # If num is divisible by any number between\n",
    "        # 2 and n / 2, it is not prime\n",
    "        if (num % i) == 0:\n",
    "            print(num, \"is not a prime number\")\n",
    "            break\n",
    "    else:\n",
    "        print(num, \"is a prime number\")\n",
    "else:\n",
    "    print(num, \"is not a prime number\")"
   ]
  },
  {
   "cell_type": "code",
   "execution_count": null,
   "id": "bc89700d-a6e8-4969-9dd5-c723945c8ced",
   "metadata": {},
   "outputs": [],
   "source": []
  },
  {
   "cell_type": "code",
   "execution_count": null,
   "id": "657e5e1a-8af1-41da-93b4-09d72dc6b6ce",
   "metadata": {},
   "outputs": [],
   "source": [
    "# Elif Statements:"
   ]
  },
  {
   "cell_type": "code",
   "execution_count": 29,
   "id": "4cd123b7-8599-4b0f-8d5b-7b8864f76702",
   "metadata": {},
   "outputs": [
    {
     "name": "stdout",
     "output_type": "stream",
     "text": [
      "Enter Marks Obtained in 5 Subjects: \n"
     ]
    },
    {
     "name": "stdin",
     "output_type": "stream",
     "text": [
      "Enter the marks of Physics:  46\n",
      "Enter the marks of Chemistry:  48\n",
      "Enter the marks of Maths:  45\n",
      "Enter the marks of English:  79\n",
      "Enter the marks of IT:  89\n"
     ]
    },
    {
     "name": "stdout",
     "output_type": "stream",
     "text": [
      "Your Grade is B2\n"
     ]
    }
   ],
   "source": [
    "'''21. Write a Python program to assign grades based on different ranges of scores using elif statements.'''\n",
    "\n",
    "# code\n",
    "print(\"Enter Marks Obtained in 5 Subjects: \")\n",
    "markOne = int(input(\"Enter the marks of Physics: \"))\n",
    "markTwo = int(input(\"Enter the marks of Chemistry: \"))\n",
    "markThree = int(input(\"Enter the marks of Maths: \"))\n",
    "markFour = int(input(\"Enter the marks of English: \"))\n",
    "markFive = int(input(\"Enter the marks of IT: \"))\n",
    "\n",
    "tot = markOne+markTwo+markThree+markFour+markFive\n",
    "avg = tot/5\n",
    "\n",
    "if avg>=91 and avg<=100:\n",
    "    print(\"Your Grade is A1\")\n",
    "elif avg>=81 and avg<91:\n",
    "    print(\"Your Grade is A2\")\n",
    "elif avg>=71 and avg<81:\n",
    "    print(\"Your Grade is B1\")\n",
    "elif avg>=61 and avg<71:\n",
    "    print(\"Your Grade is B2\")\n",
    "elif avg>=51 and avg<61:\n",
    "    print(\"Your Grade is C1\")\n",
    "elif avg>=41 and avg<51:\n",
    "    print(\"Your Grade is C2\")\n",
    "elif avg>=33 and avg<41:\n",
    "    print(\"Your Grade is D\")\n",
    "elif avg>=21 and avg<33:\n",
    "    print(\"Your Grade is E1\")\n",
    "elif avg>=0 and avg<21:\n",
    "    print(\"Your Grade is E2\")\n",
    "else:\n",
    "    print(\"Invalid Input!\")"
   ]
  },
  {
   "cell_type": "code",
   "execution_count": 30,
   "id": "e60ba8b6-88ca-402d-866a-76f293df9a15",
   "metadata": {},
   "outputs": [
    {
     "name": "stdin",
     "output_type": "stream",
     "text": [
      "Enter length of side a:  5\n",
      "Enter length of side b:  9\n",
      "Enter length of side c:  6\n"
     ]
    },
    {
     "name": "stdout",
     "output_type": "stream",
     "text": [
      "Triangle is Scalane\n"
     ]
    }
   ],
   "source": [
    "'''22. Implement a program to determine the type of a triangle based on its angles.'''\n",
    "\n",
    "# code\n",
    "def is_valid_triangle(a,b,c):\n",
    "    if a+b>=c and b+c>=a and c+a>=b:\n",
    "        return True\n",
    "    else:\n",
    "        return False\n",
    "\n",
    "# Function definition for type\n",
    "def type_of_triangle(a,b,c):\n",
    "    if a==b and b==c:\n",
    "        print('Triangle is Equilateral.')\n",
    "    elif a==b or b==c or a==c:\n",
    "        print('Triangle is Isosceles.')\n",
    "    else:\n",
    "        print('Triangle is Scalane')\n",
    "# Reading Three Sides\n",
    "side_a = float(input('Enter length of side a: '))\n",
    "side_b = float(input('Enter length of side b: '))\n",
    "side_c = float(input('Enter length of side c: '))\n",
    "\n",
    "# Function call & making decision\n",
    "if is_valid_triangle(side_a, side_b, side_c):\n",
    "    type_of_triangle(side_a, side_b, side_c)\n",
    "else:\n",
    "    print('Tringle is not possible from given sides.')"
   ]
  },
  {
   "cell_type": "code",
   "execution_count": 31,
   "id": "1048431b-198e-4805-a46c-87a0db9ebe9b",
   "metadata": {},
   "outputs": [
    {
     "name": "stdin",
     "output_type": "stream",
     "text": [
      "Enter your height in meters:  1.9\n",
      "Enter your weight in kg:  80\n"
     ]
    },
    {
     "name": "stdout",
     "output_type": "stream",
     "text": [
      "Welcome to the BMI calculator.\n",
      "Your BMI is:  22.16\n",
      "Your weight is normal.\n"
     ]
    }
   ],
   "source": [
    "'''23. Develop a program to categorize a given person's BMI into underweight, normal, overweight, or obese using\n",
    "elif statements.'''\n",
    "\n",
    "# code\n",
    "def bodymassindex(height, weight):\n",
    "    return round((weight / height**2),2)\n",
    "\n",
    "\n",
    "h = float(input(\"Enter your height in meters: \"))\n",
    "w = float(input(\"Enter your weight in kg: \"))\n",
    "\n",
    "\n",
    "print(\"Welcome to the BMI calculator.\")\n",
    "\n",
    "bmi = bodymassindex(h, w)\n",
    "print(\"Your BMI is: \", bmi)\n",
    "\n",
    "\n",
    "if bmi <= 18.5:\n",
    "    print(\"You are underweight.\")\n",
    "elif 18.5 < bmi <= 24.9:\n",
    "    print(\"Your weight is normal.\")\n",
    "elif 25 < bmi <= 29.29:\n",
    "    print(\"You are overweight.\")\n",
    "else:\n",
    "    print(\"You are obese.\")"
   ]
  },
  {
   "cell_type": "code",
   "execution_count": 32,
   "id": "398d64c4-ba94-4438-a3de-12ba70173fd7",
   "metadata": {},
   "outputs": [
    {
     "name": "stdin",
     "output_type": "stream",
     "text": [
      "Input a number:  -8\n"
     ]
    },
    {
     "name": "stdout",
     "output_type": "stream",
     "text": [
      "It is a negative number\n"
     ]
    }
   ],
   "source": [
    "'''24. Create a program that determines whether a given number is positive, negative, or zero using elif\n",
    "statements.'''\n",
    "\n",
    "# code\n",
    "num = float(input(\"Input a number: \"))\n",
    "if num > 0:\n",
    "    print(\"It is positive number\")\n",
    "elif num == 0:\n",
    "    print(\"It is Zero\")\n",
    "else:\n",
    "    print(\"It is a negative number\")"
   ]
  },
  {
   "cell_type": "code",
   "execution_count": 33,
   "id": "bc7ee653-76ad-455c-858b-d222632d012c",
   "metadata": {},
   "outputs": [
    {
     "name": "stdin",
     "output_type": "stream",
     "text": [
      "Please Enter Your Own Character :  D\n"
     ]
    },
    {
     "name": "stdout",
     "output_type": "stream",
     "text": [
      "The Given Character  D is an Uppercase Alphabet\n"
     ]
    }
   ],
   "source": [
    "'''25. Write a Python script to determine the type of a character (uppercase, lowercase, or special) using elif\n",
    "statements.'''\n",
    "\n",
    "# code\n",
    "ch = input(\"Please Enter Your Own Character : \")\n",
    "\n",
    "if(ch.isupper()):\n",
    "    print(\"The Given Character \", ch, \"is an Uppercase Alphabet\")\n",
    "elif(ch.islower()):\n",
    "    print(\"The Given Character \", ch, \"is a Lowercase Alphabet\")\n",
    "else:\n",
    "    print(\"The Given Character \", ch, \"is Not a Lower or Uppercase Alphabet\")"
   ]
  },
  {
   "cell_type": "code",
   "execution_count": 42,
   "id": "50968a20-d22f-4aa5-ab22-e0625380c055",
   "metadata": {},
   "outputs": [
    {
     "name": "stdin",
     "output_type": "stream",
     "text": [
      "Enter purchase amount  678008\n"
     ]
    },
    {
     "name": "stdout",
     "output_type": "stream",
     "text": [
      "Discount Amount = 259203.20\n",
      "Net Bill Amount = 418804.80\n"
     ]
    }
   ],
   "source": [
    "'''26. Implement a program to calculate the discounted price based on different purchase amounts using elif\n",
    "statements.'''\n",
    "\n",
    "# code\n",
    "p=int(input('Enter purchase amount '))\n",
    "\n",
    "if p<=5000:\n",
    "    dis=0\n",
    "elif p>5000 and p<=10000:\n",
    "    dis=(p-5000)*(10/100.0)\n",
    "elif p>10000 and p<=20000:\n",
    "    dis=(p-10000)*(20/100.0)\n",
    "elif p>20000 and p<=30000:\n",
    "    dis=(p-20000)*(30/100.0)\n",
    "else:\n",
    "    dis=(p-30000)*(40/100.0)\n",
    "\n",
    "print('Discount Amount = {:.2f}'.format(dis))\n",
    "print('Net Bill Amount = {:.2f}'.format(p-dis))"
   ]
  },
  {
   "cell_type": "code",
   "execution_count": 43,
   "id": "d6eb0d12-b058-485e-ae70-667524d8e29a",
   "metadata": {},
   "outputs": [
    {
     "name": "stdin",
     "output_type": "stream",
     "text": [
      "please enter the number of units you consumed in a month 700\n"
     ]
    },
    {
     "name": "stdout",
     "output_type": "stream",
     "text": [
      "\n",
      "Electicity bill=1500.00\n"
     ]
    }
   ],
   "source": [
    "'''27. Develop a program to calculate the electricity bill based on different consumption slabs using elif\n",
    "statements.'''\n",
    "\n",
    "# code\n",
    "units=int(input(\"please enter the number of units you consumed in a month\"))\n",
    "if(units<=100):\n",
    "    payAmount=units*1.5\n",
    "    fixedcharge=25.00\n",
    "elif(units<=200):\n",
    "    payAmount=(100*1.5)+(units-100)*2.5\n",
    "    fixedcharge=50.00\n",
    "elif(units<=300):\n",
    "    payAmount=(100*1.5)+(200-100)*2.5+(units-200)*4\n",
    "    fixedcharge=75.00\n",
    "elif(units<=350):\n",
    "    payAmount=(100*1.5)+(200-100)*2.5+(300-200)*4+(units-300)*5\n",
    "    fixedcharge=100.00\n",
    "else:\n",
    "    payAmount=0\n",
    "    fixedcharge=1500.00\n",
    "Total=payAmount+fixedcharge;\n",
    "print(\"\\nElecticity bill=%.2f\" %Total)"
   ]
  },
  {
   "cell_type": "code",
   "execution_count": 44,
   "id": "28906e15-67b6-4382-8f71-9122b73bd498",
   "metadata": {},
   "outputs": [
    {
     "name": "stdout",
     "output_type": "stream",
     "text": [
      "75.0 , 85.0 , 95.0 , 105.0\n"
     ]
    }
   ],
   "source": [
    "'''28. Create a program to determine the type of quadrilateral based on its angles and sides using elif\n",
    "statements.'''\n",
    "d = 10\n",
    "a = 0.0\n",
    " \n",
    "# according to formula\n",
    "# derived above\n",
    "a=(360 - (6 * d)) / 4\n",
    " \n",
    "# print all the angles\n",
    "print(a,\",\", a + d, \",\", a + 2 * d,\n",
    "        \",\", a + 3 * d, sep = ' ')"
   ]
  },
  {
   "cell_type": "code",
   "execution_count": 48,
   "id": "c8e975f7-4511-404e-ad4b-6d69a2978216",
   "metadata": {},
   "outputs": [
    {
     "name": "stdin",
     "output_type": "stream",
     "text": [
      "Input the month (e.g. January, February etc.):  May \n",
      "Input the day:  25\n"
     ]
    },
    {
     "name": "stdout",
     "output_type": "stream",
     "text": [
      "Season is autumn\n"
     ]
    }
   ],
   "source": [
    "'''29. Write a Python script to determine the season based on a user-provided month using elif statements.'''\n",
    "\n",
    "# code\n",
    "month = input(\"Input the month (e.g. January, February etc.): \")\n",
    "day = int(input(\"Input the day: \"))\n",
    "\n",
    "if month in ('January', 'February', 'March'):\n",
    "\tseason = 'winter'\n",
    "elif month in ('April', 'May', 'June'):\n",
    "\tseason = 'spring'\n",
    "elif month in ('July', 'August', 'September'):\n",
    "\tseason = 'summer'\n",
    "else:\n",
    "\tseason = 'autumn'\n",
    "\n",
    "if (month == 'March') and (day > 19):\n",
    "\tseason = 'spring'\n",
    "elif (month == 'June') and (day > 20):\n",
    "\tseason = 'summer'\n",
    "elif (month == 'September') and (day > 21):\n",
    "\tseason = 'autumn'\n",
    "elif (month == 'December') and (day > 20):\n",
    "\tseason = 'winter'\n",
    "print(\"Season is\",season)"
   ]
  },
  {
   "cell_type": "code",
   "execution_count": 50,
   "id": "af976370-148e-4da3-b725-e7d41331cce1",
   "metadata": {},
   "outputs": [
    {
     "name": "stdout",
     "output_type": "stream",
     "text": [
      "Number of days is 31\n",
      "2012 is a leap year\n"
     ]
    }
   ],
   "source": [
    "'''30. Implement a program to determine the type of a year (leap or common) and month (30 or 31 days) using\n",
    "elif statements.'''\n",
    "\n",
    "# code\n",
    "month = 12\n",
    "year=2012\n",
    "    \n",
    "if((month==2) and ((year%4==0)  or ((year%100==0) and (year%400==0)))) :\n",
    "    print(\"Number of days is 29\");\n",
    "\n",
    "elif(month==2) :\n",
    "    print(\"Number of days is 28\");\n",
    "\n",
    "elif(month==1 or month==3 or month==5 or month==7 or month==8 or month==10 or month==12) :\n",
    "    print(\"Number of days is 31\");\n",
    "\n",
    "else :\n",
    "    print(\"Number of days is 30\");\n",
    "    \n",
    "    \n",
    "if (year % 400 == 0) and (year % 100 == 0):\n",
    "    print(\"{0} is a leap year\".format(year))\n",
    "\n",
    "# not divided by 100 means not a century year\n",
    "# year divided by 4 is a leap year\n",
    "elif (year % 4 ==0) and (year % 100 != 0):\n",
    "    print(\"{0} is a leap year\".format(year))\n",
    "\n",
    "# if not divided by both 400 (century year) and 4 (not century year)\n",
    "# year is not leap year\n",
    "else:\n",
    "    print(\"{0} is not a leap year\".format(year))"
   ]
  },
  {
   "cell_type": "code",
   "execution_count": null,
   "id": "47c1fedb-780d-49fa-916a-859f17fc41ea",
   "metadata": {},
   "outputs": [],
   "source": []
  },
  {
   "cell_type": "code",
   "execution_count": null,
   "id": "1ea26e12-2a24-4f1a-88f5-e23cd44ce374",
   "metadata": {},
   "outputs": [],
   "source": [
    "# Basic Level:"
   ]
  },
  {
   "cell_type": "code",
   "execution_count": 2,
   "id": "c8587eb1-3d4f-4a45-b1f4-8e88309705bd",
   "metadata": {},
   "outputs": [
    {
     "name": "stdout",
     "output_type": "stream",
     "text": [
      "Number is positive\n"
     ]
    }
   ],
   "source": [
    "'''1. Write a Python program that checks if a given number is positive, negative, or zero.'''\n",
    "\n",
    "# code\n",
    "a = 5\n",
    "if a > 0:\n",
    "    print(\"Number is positive\")\n",
    "else:\n",
    "    print(\"Number is negative\")"
   ]
  },
  {
   "cell_type": "code",
   "execution_count": 3,
   "id": "94c8570d-3a2c-4a19-bcf8-7a7170f395eb",
   "metadata": {},
   "outputs": [
    {
     "name": "stdout",
     "output_type": "stream",
     "text": [
      "Person is  not eligible to vote\n"
     ]
    }
   ],
   "source": [
    "'''2. Create a program to determine if a person is eligible to vote based on their age.'''\n",
    "\n",
    "# code\n",
    "vote = 15\n",
    "if vote > 18:\n",
    "    print(\"Person is eligible to vote\")\n",
    "else:\n",
    "    print(\"Person is  not eligible to vote\")"
   ]
  },
  {
   "cell_type": "code",
   "execution_count": 4,
   "id": "d10ab452-ffdc-4439-9473-dd2015e69a75",
   "metadata": {},
   "outputs": [
    {
     "name": "stdout",
     "output_type": "stream",
     "text": [
      "4\n"
     ]
    }
   ],
   "source": [
    "'''3. Write a program to find the maximum of two given numbers using conditional statements.'''\n",
    "\n",
    "# code\n",
    "def maximum(a, b): \n",
    "    if a >= b:\n",
    "        return a\n",
    "    else:\n",
    "        return b     \n",
    "# Driver code\n",
    "a = 2\n",
    "b = 4\n",
    "print(maximum(a, b))"
   ]
  },
  {
   "cell_type": "code",
   "execution_count": 5,
   "id": "380d1c44-4421-4ff5-adbd-fef3c6b33baa",
   "metadata": {},
   "outputs": [
    {
     "name": "stdout",
     "output_type": "stream",
     "text": [
      "Enter Marks Obtained in 5 Subjects: \n"
     ]
    },
    {
     "name": "stdin",
     "output_type": "stream",
     "text": [
      "Enter the marks of Physics:  78\n",
      "Enter the marks of Chemistry:  90\n",
      "Enter the marks of Maths:  88\n",
      "Enter the marks of English:  70\n",
      "Enter the marks of IT:  98\n"
     ]
    },
    {
     "name": "stdout",
     "output_type": "stream",
     "text": [
      "Your Grade is A2\n"
     ]
    }
   ],
   "source": [
    "'''4. Develop a program that calculates the grade of a student based on their exam score.'''\n",
    "\n",
    "# code\n",
    "print(\"Enter Marks Obtained in 5 Subjects: \")\n",
    "markOne = int(input(\"Enter the marks of Physics: \"))\n",
    "markTwo = int(input(\"Enter the marks of Chemistry: \"))\n",
    "markThree = int(input(\"Enter the marks of Maths: \"))\n",
    "markFour = int(input(\"Enter the marks of English: \"))\n",
    "markFive = int(input(\"Enter the marks of IT: \"))\n",
    "\n",
    "tot = markOne+markTwo+markThree+markFour+markFive\n",
    "avg = tot/5\n",
    "\n",
    "if avg>=91 and avg<=100:\n",
    "    print(\"Your Grade is A1\")\n",
    "elif avg>=81 and avg<91:\n",
    "    print(\"Your Grade is A2\")\n",
    "elif avg>=71 and avg<81:\n",
    "    print(\"Your Grade is B1\")\n",
    "elif avg>=61 and avg<71:\n",
    "    print(\"Your Grade is B2\")\n",
    "elif avg>=51 and avg<61:\n",
    "    print(\"Your Grade is C1\")\n",
    "elif avg>=41 and avg<51:\n",
    "    print(\"Your Grade is C2\")\n",
    "elif avg>=33 and avg<41:\n",
    "    print(\"Your Grade is D\")\n",
    "elif avg>=21 and avg<33:\n",
    "    print(\"Your Grade is E1\")\n",
    "elif avg>=0 and avg<21:\n",
    "    print(\"Your Grade is E2\")\n",
    "else:\n",
    "    print(\"Invalid Input!\")"
   ]
  },
  {
   "cell_type": "code",
   "execution_count": 6,
   "id": "a54b6650-76af-47a7-a7c3-23355bcab0e8",
   "metadata": {},
   "outputs": [
    {
     "name": "stdout",
     "output_type": "stream",
     "text": [
      "2025 is not a leap year\n"
     ]
    }
   ],
   "source": [
    "'''5. Create a program that checks if a year is a leap year or not.'''\n",
    "\n",
    "# code if \n",
    "year = 2025\n",
    "if (year % 400 == 0) and (year % 100 == 0):\n",
    "    print(\"{0} is a leap year\".format(year))\n",
    "\n",
    "# not divided by 100 means not a century year\n",
    "# year divided by 4 is a leap year\n",
    "elif (year % 4 ==0) and (year % 100 != 0):\n",
    "    print(\"{0} is a leap year\".format(year))\n",
    "\n",
    "# if not divided by both 400 (century year) and 4 (not century year)\n",
    "# year is not leap year\n",
    "else:\n",
    "    print(\"{0} is not a leap year\".format(year))"
   ]
  },
  {
   "cell_type": "code",
   "execution_count": 7,
   "id": "c1c41ad9-5873-4690-b404-3646c56384e1",
   "metadata": {},
   "outputs": [
    {
     "name": "stdout",
     "output_type": "stream",
     "text": [
      "Input lengths of the triangle sides: \n"
     ]
    },
    {
     "name": "stdin",
     "output_type": "stream",
     "text": [
      "x:  9\n",
      "y:  9\n",
      "z:  9\n"
     ]
    },
    {
     "name": "stdout",
     "output_type": "stream",
     "text": [
      "Equilateral triangle\n"
     ]
    }
   ],
   "source": [
    "'''6. Write a program to classify a triangle based on its sides' lengths.'''\n",
    "\n",
    "# code\n",
    "print(\"Input lengths of the triangle sides: \")\n",
    "x = int(input(\"x: \"))\n",
    "y = int(input(\"y: \"))\n",
    "z = int(input(\"z: \"))\n",
    "\n",
    "if x == y == z:\n",
    "    print(\"Equilateral triangle\")\n",
    "elif x==y or y==z or z==x:\n",
    "    print(\"isosceles triangle\")\n",
    "else:\n",
    "    print(\"Scalene triangle\")"
   ]
  },
  {
   "cell_type": "code",
   "execution_count": 9,
   "id": "4216eb6a-3181-4f35-bad9-980d656a6913",
   "metadata": {},
   "outputs": [
    {
     "name": "stdout",
     "output_type": "stream",
     "text": [
      "Largest of the three numbers:  90\n"
     ]
    }
   ],
   "source": [
    "'''7. Build a program that determines the largest of three given numbers.'''\n",
    "\n",
    "# code\n",
    "a=78\n",
    "b=90\n",
    "c=56\n",
    "num=0\n",
    "if (a > b) and (a > c):\n",
    "    num = n1          \n",
    "if (b > a) and (b > c):\n",
    "    num = n2\n",
    "else:\n",
    "    num = n3\n",
    "print(\"Largest of the three numbers: \",num) "
   ]
  },
  {
   "cell_type": "code",
   "execution_count": 11,
   "id": "d2e1909a-81a1-486d-bfe6-510f78fe1f81",
   "metadata": {},
   "outputs": [
    {
     "name": "stdout",
     "output_type": "stream",
     "text": [
      "Given character is a consonant\n"
     ]
    }
   ],
   "source": [
    "'''8. Develop a program that checks whether a character is a vowel or a consonant.'''\n",
    "\n",
    "# code\n",
    "char = 'z'\n",
    "if (char=='a' or char=='e' or char=='i' or char=='o' or char=='u' or\n",
    "    char=='A' or char=='E' or char=='I' or char=='o' or char=='u'):\n",
    "    print(\"Given character is a vowel\")\n",
    "else:\n",
    "    print(\"Given character is a consonant\")"
   ]
  },
  {
   "cell_type": "code",
   "execution_count": null,
   "id": "6ddfa94c-93b6-4079-9965-9266123d5520",
   "metadata": {},
   "outputs": [],
   "source": [
    "'''9. Create a program to calculate the total cost of a shopping cart based on discounts.'''\n",
    "\n",
    "# code"
   ]
  },
  {
   "cell_type": "code",
   "execution_count": 12,
   "id": "268a1f6c-4b43-49e3-b660-9eae9f17e639",
   "metadata": {},
   "outputs": [
    {
     "name": "stdin",
     "output_type": "stream",
     "text": [
      "Enter a Number: 56\n"
     ]
    },
    {
     "name": "stdout",
     "output_type": "stream",
     "text": [
      "Given number is Even\n"
     ]
    }
   ],
   "source": [
    "'''10. Write a program that checks if a given number is even or odd.'''\n",
    "\n",
    "# code\n",
    "num = int(input(\"Enter a Number:\")) \n",
    "if num % 2 == 0: \n",
    "    print(\"Given number is Even\") \n",
    "else: \n",
    "    print(\"Given number is Odd\")"
   ]
  },
  {
   "cell_type": "code",
   "execution_count": null,
   "id": "06d04772-f736-40ce-896a-c526405369b2",
   "metadata": {},
   "outputs": [],
   "source": []
  },
  {
   "cell_type": "code",
   "execution_count": null,
   "id": "da1b79ab-6c9c-49be-8da8-1e8bcf4fc167",
   "metadata": {},
   "outputs": [],
   "source": [
    "# Intermediate Level:"
   ]
  },
  {
   "cell_type": "code",
   "execution_count": 14,
   "id": "44533ce7-826a-4152-890b-8d8838b10612",
   "metadata": {},
   "outputs": [
    {
     "name": "stdin",
     "output_type": "stream",
     "text": [
      "Enter a:  4\n",
      "Enter b:  2\n",
      "Enter c:  8\n"
     ]
    },
    {
     "name": "stdout",
     "output_type": "stream",
     "text": [
      "The solution are (-0.25-1.3919410907075054j) and (-0.25+1.3919410907075054j)\n"
     ]
    }
   ],
   "source": [
    "'''11. Write a program that calculates the roots of a quadratic equation .'''\n",
    "\n",
    "# code\n",
    "import cmath  \n",
    "a = float(input('Enter a: '))  \n",
    "b = float(input('Enter b: '))  \n",
    "c = float(input('Enter c: '))  \n",
    "  \n",
    "# calculate the discriminant  \n",
    "d = (b**2) - (4*a*c)  \n",
    "  \n",
    "# find two solutions  \n",
    "sol1 = (-b-cmath.sqrt(d))/(2*a)  \n",
    "sol2 = (-b+cmath.sqrt(d))/(2*a)  \n",
    "print('The solution are {0} and {1}'.format(sol1,sol2)) "
   ]
  },
  {
   "cell_type": "code",
   "execution_count": 16,
   "id": "cb668abb-e3b4-4dcf-8d29-95e6f5dc4df7",
   "metadata": {},
   "outputs": [
    {
     "name": "stdin",
     "output_type": "stream",
     "text": [
      "Enter the number for days of week:  8\n"
     ]
    },
    {
     "name": "stdout",
     "output_type": "stream",
     "text": [
      "No day\n"
     ]
    }
   ],
   "source": [
    "'''12. Create a program that determines the day of the week based on the day number (1-7).'''\n",
    "\n",
    "# code\n",
    "day = int(input(\"Enter the number for days of week: \"))\n",
    "\n",
    "if day == 1:\n",
    "    print(\"Day is Monday\")\n",
    "if day == 2:\n",
    "    print(\"Day is Tuesday\")\n",
    "if day == 3:\n",
    "    print(\"Day is Wednesday\")\n",
    "if day == 4:\n",
    "    print(\"Day is Thursday\")\n",
    "if day == 5:\n",
    "    print(\"Day is Friday\")    \n",
    "if day == 6:\n",
    "    print(\"Day is Saturday\")\n",
    "if day == 7:\n",
    "    print(\"Day is Sunday\")\n",
    "else: (day > 7)\n",
    "print(\"No day\")"
   ]
  },
  {
   "cell_type": "code",
   "execution_count": 17,
   "id": "b04869d7-6890-41cd-af16-ae32a308e9fd",
   "metadata": {},
   "outputs": [
    {
     "name": "stdout",
     "output_type": "stream",
     "text": [
      "The factorial of 7 is 5040\n"
     ]
    }
   ],
   "source": [
    "'''13. Develop a program that calculates the factorial of a given number using recursion.'''\n",
    "\n",
    "# code\n",
    "def recur_factorial(n):\n",
    "    if n == 1:\n",
    "        return n\n",
    "    else:\n",
    "        return n*recur_factorial(n-1)\n",
    "num = 7\n",
    "# check if the number is negative\n",
    "if num < 0:\n",
    "    print(\"Sorry, factorial does not exist for negative numbers\")\n",
    "elif num == 0:\n",
    "    print(\"The factorial of 0 is 1\")\n",
    "else:\n",
    "    print(\"The factorial of\", num, \"is\", recur_factorial(num))"
   ]
  },
  {
   "cell_type": "code",
   "execution_count": 18,
   "id": "9bc27b9d-4f3a-426c-ae3f-4f5a26b9c23d",
   "metadata": {},
   "outputs": [
    {
     "name": "stdout",
     "output_type": "stream",
     "text": [
      "14\n"
     ]
    }
   ],
   "source": [
    "'''14. Write a program to find the largest among three numbers without using the `max()` function.'''\n",
    "\n",
    "# code\n",
    "def maximum(a, b, c):\n",
    "    list = [a, b, c]\n",
    "    return max(list)\n",
    "# Driven code\n",
    "a = 10\n",
    "b = 14\n",
    "c = 12\n",
    "print(maximum(a, b, c))"
   ]
  },
  {
   "cell_type": "code",
   "execution_count": 2,
   "id": "c85cc330-ba58-4fc8-ba4c-ca9eb1093d3d",
   "metadata": {},
   "outputs": [
    {
     "name": "stdout",
     "output_type": "stream",
     "text": [
      "*******WELCOME TO BANK OF BHUTAN*******\n",
      "___________________________________________________________\n",
      "\n",
      "----------ACCOUNT CREATION----------\n"
     ]
    },
    {
     "name": "stdin",
     "output_type": "stream",
     "text": [
      "Enter your name:  Samar Pawar\n",
      "Enter your account number:  45g7890ju\n"
     ]
    },
    {
     "name": "stdout",
     "output_type": "stream",
     "text": [
      "Congratulations! Account created successfully......\n",
      "\n"
     ]
    },
    {
     "name": "stdin",
     "output_type": "stream",
     "text": [
      "Do you want to do any transaction?(y/n): y\n"
     ]
    },
    {
     "name": "stdout",
     "output_type": "stream",
     "text": [
      "\n",
      "            TRANSACTION \n",
      "        *********************\n",
      "            Menu:\n",
      "            1. Account Detail\n",
      "            2. Check Balance\n",
      "            3. Deposit\n",
      "            4. Withdraw\n",
      "            5. Exit\n",
      "        *********************\n",
      "        \n"
     ]
    },
    {
     "name": "stdin",
     "output_type": "stream",
     "text": [
      "Enter 1, 2, 3, 4 or 5: 2\n"
     ]
    },
    {
     "name": "stdout",
     "output_type": "stream",
     "text": [
      "Available balance: Nu. 0\n",
      "\n"
     ]
    },
    {
     "name": "stdin",
     "output_type": "stream",
     "text": [
      "Enter 1, 2, 3, 4 or 5: 5\n"
     ]
    },
    {
     "name": "stdout",
     "output_type": "stream",
     "text": [
      "\n",
      "                printing receipt..............\n",
      "          ******************************************\n",
      "              Transaction is now complete.                         \n",
      "              Transaction number: 814192\n",
      "              Account holder: SAMAR PAWAR                  \n",
      "              Account number: 45g7890ju                \n",
      "              Available balance: Nu.0                    \n",
      " \n",
      "              Thanks for choosing us as your bank                  \n",
      "          ******************************************\n",
      "          \n"
     ]
    },
    {
     "ename": "SystemExit",
     "evalue": "",
     "output_type": "error",
     "traceback": [
      "An exception has occurred, use %tb to see the full traceback.\n",
      "\u001b[0;31mSystemExit\u001b[0m\n"
     ]
    },
    {
     "name": "stderr",
     "output_type": "stream",
     "text": [
      "/opt/conda/lib/python3.10/site-packages/IPython/core/interactiveshell.py:3441: UserWarning: To exit: use 'exit', 'quit', or Ctrl-D.\n",
      "  warn(\"To exit: use 'exit', 'quit', or Ctrl-D.\", stacklevel=1)\n"
     ]
    }
   ],
   "source": [
    "'''15. Create a program that simulates a basic ATM transaction menu.'''\n",
    "\n",
    "# code\n",
    "import random\n",
    "import sys\n",
    " \n",
    "class ATM():\n",
    "    def __init__(self, name, account_number, balance = 0):\n",
    "        self.name = name\n",
    "        self.account_number = account_number\n",
    "        self.balance = balance\n",
    "         \n",
    "    def account_detail(self):\n",
    "        print(\"\\n----------ACCOUNT DETAIL----------\")\n",
    "        print(f\"Account Holder: {self.name.upper()}\")\n",
    "        print(f\"Account Number: {self.account_number}\")\n",
    "        print(f\"Available balance: Nu.{self.balance}\\n\")\n",
    "         \n",
    "    def deposit(self, amount):\n",
    "        self.amount = amount\n",
    "        self.balance = self.balance + self.amount\n",
    "        print(\"Current account balance: Nu.\", self.balance)\n",
    "        print()\n",
    " \n",
    "    def withdraw(self, amount):\n",
    "        self.amount = amount\n",
    "        if self.amount > self.balance:\n",
    "            print(\"Insufficient fund!\")\n",
    "            print(f\"Your balance is Nu.{self.balance} only.\")\n",
    "            print(\"Try with lesser amount than balance.\")\n",
    "            print()\n",
    "        else:\n",
    "            self.balance = self.balance - self.amount\n",
    "            print(f\"Nu.{amount} withdrawal successful!\")\n",
    "            print(\"Current account balance: Nu.\", self.balance)\n",
    "            print()\n",
    " \n",
    "    def check_balance(self):\n",
    "        print(\"Available balance: Nu.\", self.balance)\n",
    "        print()\n",
    " \n",
    "    def transaction(self):\n",
    "        print(\"\"\"\n",
    "            TRANSACTION \n",
    "        *********************\n",
    "            Menu:\n",
    "            1. Account Detail\n",
    "            2. Check Balance\n",
    "            3. Deposit\n",
    "            4. Withdraw\n",
    "            5. Exit\n",
    "        *********************\n",
    "        \"\"\")\n",
    "        \n",
    "        while True:\n",
    "            try:\n",
    "                option = int(input(\"Enter 1, 2, 3, 4 or 5:\"))\n",
    "            except:\n",
    "                print(\"Error: Enter 1, 2, 3, 4, or 5 only!\\n\")\n",
    "                continue\n",
    "            else:\n",
    "                if option == 1:\n",
    "                    atm.account_detail()\n",
    "                elif option == 2:\n",
    "                    atm.check_balance()\n",
    "                elif option == 3:\n",
    "                    amount = int(input(\"How much you want to deposit(Nu.):\"))\n",
    "                    atm.deposit(amount)\n",
    "                elif option == 4:\n",
    "                    amount = int(input(\"How much you want to withdraw(Nu.):\"))\n",
    "                    atm.withdraw(amount)\n",
    "                elif option == 5:\n",
    "                    print(f\"\"\"\n",
    "                printing receipt..............\n",
    "          ******************************************\n",
    "              Transaction is now complete.                         \n",
    "              Transaction number: {random.randint(10000, 1000000)}\n",
    "              Account holder: {self.name.upper()}                  \n",
    "              Account number: {self.account_number}                \n",
    "              Available balance: Nu.{self.balance}                    \n",
    " \n",
    "              Thanks for choosing us as your bank                  \n",
    "          ******************************************\n",
    "          \"\"\")\n",
    "                    sys.exit()\n",
    "print(\"*******WELCOME TO BANK OF BHUTAN*******\")\n",
    "print(\"___________________________________________________________\\n\")\n",
    "print(\"----------ACCOUNT CREATION----------\")\n",
    "name = input(\"Enter your name: \")\n",
    "account_number = input(\"Enter your account number: \")\n",
    "print(\"Congratulations! Account created successfully......\\n\")\n",
    " \n",
    "atm = ATM(name, account_number)\n",
    "while True:\n",
    "    trans = input(\"Do you want to do any transaction?(y/n):\")\n",
    "    if trans == \"y\":\n",
    "        atm.transaction()\n",
    "    elif trans == \"n\":\n",
    "        print(\"\"\"\n",
    "    -------------------------------------\n",
    "   | Thanks for choosing us as your bank |\n",
    "   | Visit us again!                     |\n",
    "    -------------------------------------\n",
    "        \"\"\")\n",
    "        break\n",
    "    else:\n",
    "        print(\"Wrong command!  Enter 'y' for yes and 'n' for NO.\\n\")"
   ]
  },
  {
   "cell_type": "code",
   "execution_count": 9,
   "id": "5a69a91e-0bc4-4af1-8f71-4c970144d69e",
   "metadata": {},
   "outputs": [
    {
     "name": "stdin",
     "output_type": "stream",
     "text": [
      "Enter the String RADAR\n"
     ]
    },
    {
     "name": "stdout",
     "output_type": "stream",
     "text": [
      "Given string is a palindrome\n"
     ]
    }
   ],
   "source": [
    "'''16. Build a program that checks if a given string is a palindrome or not.'''\n",
    "\n",
    "# code\n",
    "s=input(\"Enter the String\")\n",
    "if (s == s[::-1]):\n",
    "    print(\"Given string is a palindrome\")\n",
    "else:\n",
    "     print(\"Given string is  not a  palindrome\")"
   ]
  },
  {
   "cell_type": "code",
   "execution_count": 10,
   "id": "c059e9aa-26e3-441b-a717-c52a603457b8",
   "metadata": {},
   "outputs": [
    {
     "name": "stdout",
     "output_type": "stream",
     "text": [
      "Average of the list = 35.75\n"
     ]
    }
   ],
   "source": [
    "'''17. Write a program that calculates the average of a list of numbers, excluding the smallest and largest values.'''\n",
    "\n",
    "# code\n",
    "def Average(lst):\n",
    "    return sum(lst) / len(lst)\n",
    " \n",
    "# Driver Code\n",
    "lst = [15, 9, 55, 41, 35, 20, 62, 49]\n",
    "average = Average(lst)\n",
    " \n",
    "# Printing average of the list\n",
    "print(\"Average of the list =\", round(average, 2))"
   ]
  },
  {
   "cell_type": "code",
   "execution_count": 11,
   "id": "9139e00d-eba9-4eb8-a6ef-9c6834c3231d",
   "metadata": {},
   "outputs": [
    {
     "name": "stdin",
     "output_type": "stream",
     "text": [
      "Enter the Temperature in Celsius :\n",
      " 35\n"
     ]
    },
    {
     "name": "stdout",
     "output_type": "stream",
     "text": [
      "Temperature in Fahrenheit : 95.0\n"
     ]
    }
   ],
   "source": [
    "'''18. Develop a program that converts a given temperature from Celsius to Fahrenheit.'''\n",
    "\n",
    "# code\n",
    "celsius = int(input(\"Enter the Temperature in Celsius :\\n\"))\n",
    "fahrenheit = (1.8 * celsius) + 32\n",
    "print(\"Temperature in Fahrenheit :\", fahrenheit)"
   ]
  },
  {
   "cell_type": "code",
   "execution_count": 12,
   "id": "bb2c15b4-02a8-415d-a824-9ef62c2aae51",
   "metadata": {},
   "outputs": [
    {
     "name": "stdout",
     "output_type": "stream",
     "text": [
      "Please select operation -\n",
      "1. Add\n",
      "2. Subtract\n",
      "3. Multiply\n",
      "4. Divide\n",
      "\n"
     ]
    },
    {
     "name": "stdin",
     "output_type": "stream",
     "text": [
      "Select operations form 1, 2, 3, 4 : 1\n",
      "Enter first number:  3\n",
      "Enter second number:  5\n"
     ]
    },
    {
     "name": "stdout",
     "output_type": "stream",
     "text": [
      "3 + 5 = 8\n"
     ]
    }
   ],
   "source": [
    "'''19. Create a program that simulates a basic calculator for addition, subtraction, multiplication, and division.'''\n",
    "\n",
    "# code\n",
    "# Python program for simple calculator\n",
    "\n",
    "# Function to add two numbers\n",
    "def add(num1, num2):\n",
    "\treturn num1 + num2\n",
    "\n",
    "# Function to subtract two numbers\n",
    "def subtract(num1, num2):\n",
    "\treturn num1 - num2\n",
    "\n",
    "# Function to multiply two numbers\n",
    "def multiply(num1, num2):\n",
    "\treturn num1 * num2\n",
    "\n",
    "# Function to divide two numbers\n",
    "def divide(num1, num2):\n",
    "\treturn num1 / num2\n",
    "\n",
    "print(\"Please select operation -\\n\" \\\n",
    "\t\t\"1. Add\\n\" \\\n",
    "\t\t\"2. Subtract\\n\" \\\n",
    "\t\t\"3. Multiply\\n\" \\\n",
    "\t\t\"4. Divide\\n\")\n",
    "\n",
    "\n",
    "# Take input from the user\n",
    "select = int(input(\"Select operations form 1, 2, 3, 4 :\"))\n",
    "\n",
    "number_1 = int(input(\"Enter first number: \"))\n",
    "number_2 = int(input(\"Enter second number: \"))\n",
    "\n",
    "if select == 1:\n",
    "\tprint(number_1, \"+\", number_2, \"=\",\n",
    "\t\t\t\t\tadd(number_1, number_2))\n",
    "\n",
    "elif select == 2:\n",
    "\tprint(number_1, \"-\", number_2, \"=\",\n",
    "\t\t\t\t\tsubtract(number_1, number_2))\n",
    "\n",
    "elif select == 3:\n",
    "\tprint(number_1, \"*\", number_2, \"=\",\n",
    "\t\t\t\t\tmultiply(number_1, number_2))\n",
    "\n",
    "elif select == 4:\n",
    "\tprint(number_1, \"/\", number_2, \"=\",\n",
    "\t\t\t\t\tdivide(number_1, number_2))\n",
    "else:\n",
    "\tprint(\"Invalid input\")\n"
   ]
  },
  {
   "cell_type": "code",
   "execution_count": 13,
   "id": "2dbda150-5a40-4be4-8ba9-e878022dc2cd",
   "metadata": {},
   "outputs": [],
   "source": [
    "'''20. Write a program that determines the roots of a cubic equation using the Cardano formula.'''\n",
    "\n",
    "# code\n",
    "def solve(a,b,c,d):\n",
    "    Q = (3*a*c - (b**2)) / (9*(a**2))\n",
    "    R = (9*a*b*c - 27*(a**2)*d - 2*(b**3)) / (54*(a**3))\n",
    "    D = (Q**3) + (R**2)\n",
    "    S = (R + (D**(1/2)))**(1/3)\n",
    "    T = (R - (D**(1/2)))**(1/3)\n",
    "\n",
    "    x1 = S + T - (b/(3*a))\n",
    "    x2 = -((S + T)/2) - (b/(3*a)) + 0.5j * (3**(1/2)) * (S - T)\n",
    "    x3 = -((S + T)/2) - (b/(3*a)) - 0.5j * (3**(1/2)) * (S - T)\n",
    "\n",
    "    return (x1,x2,x3)"
   ]
  },
  {
   "cell_type": "code",
   "execution_count": 15,
   "id": "0ba69084-abd3-4648-b702-a661897ce03e",
   "metadata": {},
   "outputs": [
    {
     "data": {
      "text/plain": [
       "((0.3956439237389603+0.805775395063554j),\n",
       " (-0.5000000000000002-0.28867513459481287j),\n",
       " (-1.89564392373896-0.5171002604687411j))"
      ]
     },
     "execution_count": 15,
     "metadata": {},
     "output_type": "execute_result"
    }
   ],
   "source": [
    "solve(1,2,3,2)"
   ]
  },
  {
   "cell_type": "code",
   "execution_count": null,
   "id": "0fe09c0c-b631-488a-8850-0a625bf73908",
   "metadata": {},
   "outputs": [],
   "source": []
  },
  {
   "cell_type": "code",
   "execution_count": null,
   "id": "cc199e20-e691-4ad5-b000-ea18be2091d2",
   "metadata": {},
   "outputs": [],
   "source": [
    "# Advanced Level:"
   ]
  },
  {
   "cell_type": "code",
   "execution_count": 16,
   "id": "ea24a1d1-82d4-4398-ac39-a54a0e4d3012",
   "metadata": {},
   "outputs": [
    {
     "name": "stdin",
     "output_type": "stream",
     "text": [
      "What's your \t\t\t\t\tannual income?\n",
      ">>>  100000\n"
     ]
    },
    {
     "name": "stdout",
     "output_type": "stream",
     "text": [
      "Total tax applicable at \t\t\t\t\t₹100000.0 is ₹0\n"
     ]
    }
   ],
   "source": [
    "'''21. Create a program that calculates the income tax based on the user's income and tax brackets.'''\n",
    "\n",
    "# code\n",
    "def calculate(amount, percent):\n",
    "\treturn (amount * percent) / 100\n",
    "\n",
    "def calculate_income_tax(total_income:\n",
    "\t\t\t\t\t\tfloat) -> float:\n",
    "\n",
    "\tif total_income <= 250000:\n",
    "\t\treturn 0\n",
    "\telif total_income <= 500000:\n",
    "\t\treturn calculate(total_income -\n",
    "\t\t\t\t\t\t250000, 5)\n",
    "\telif total_income <= 750000:\n",
    "\t\treturn calculate(total_income -\n",
    "\t\t\t\t\t\t500000, 10) + 12500\n",
    "\telif total_income <= 1000000:\n",
    "\t\treturn calculate(total_income -\n",
    "\t\t\t\t\t\t750000, 15) + 37500\n",
    "\telif total_income <= 1250000:\n",
    "\t\treturn calculate(total_income -\n",
    "\t\t\t\t\t\t1000000, 20) + 75000\n",
    "\telif total_income <= 1500000:\n",
    "\t\treturn calculate(total_income -\n",
    "\t\t\t\t\t\t1250000, 25) + 125000\n",
    "\telse:\n",
    "\t\treturn calculate(total_income -\n",
    "\t\t\t\t\t\t1500000, 30) + 187500\n",
    "\n",
    "if __name__ == '__main__':\n",
    "\ttotal_income = float(input(\"What's your \\\n",
    "\t\t\t\t\tannual income?\\n>>> \"))\n",
    "\ttax = calculate_income_tax(total_income)\n",
    "\tprint(f\"Total tax applicable at \\\n",
    "\t\t\t\t\t₹{total_income} is ₹{tax}\")\n"
   ]
  },
  {
   "cell_type": "code",
   "execution_count": 19,
   "id": "40f023e6-949d-44a6-a238-2e716d98b4b3",
   "metadata": {},
   "outputs": [
    {
     "name": "stdin",
     "output_type": "stream",
     "text": [
      "Enter your choice (rock, paper, or scissors):  rock\n"
     ]
    },
    {
     "name": "stdout",
     "output_type": "stream",
     "text": [
      "You chose rock.\n",
      "Computer chose paper.\n",
      "Computer wins!\n"
     ]
    },
    {
     "name": "stdin",
     "output_type": "stream",
     "text": [
      "Do you want to play again? (yes/no):  no\n"
     ]
    }
   ],
   "source": [
    "'''22. Write a program that simulates a rock-paper-scissors game against the computer.'''\n",
    "\n",
    "# code\n",
    "import random\n",
    "\n",
    "# Function to get the user's choice\n",
    "def get_user_choice():\n",
    "    user_choice = input(\"Enter your choice (rock, paper, or scissors): \").lower()\n",
    "    while user_choice not in [\"rock\", \"paper\", \"scissors\"]:\n",
    "        user_choice = input(\"Invalid choice. Please enter rock, paper, or scissors: \").lower()\n",
    "    return user_choice\n",
    "\n",
    "# Function to get the computer's choice\n",
    "def get_computer_choice():\n",
    "    choices = [\"rock\", \"paper\", \"scissors\"]\n",
    "    return random.choice(choices)\n",
    "\n",
    "# Function to determine the winner\n",
    "def determine_winner(user_choice, computer_choice):\n",
    "    if user_choice == computer_choice:\n",
    "        return \"It's a tie!\"\n",
    "    elif (\n",
    "        (user_choice == \"rock\" and computer_choice == \"scissors\") or\n",
    "        (user_choice == \"paper\" and computer_choice == \"rock\") or\n",
    "        (user_choice == \"scissors\" and computer_choice == \"paper\")\n",
    "    ):\n",
    "        return \"You win!\"\n",
    "    else:\n",
    "        return \"Computer wins!\"\n",
    "\n",
    "# Main game loop\n",
    "while True:\n",
    "    user_choice = get_user_choice()\n",
    "    computer_choice = get_computer_choice()\n",
    "    \n",
    "    print(f\"You chose {user_choice}.\")\n",
    "    print(f\"Computer chose {computer_choice}.\")\n",
    "    \n",
    "    result = determine_winner(user_choice, computer_choice)\n",
    "    print(result)\n",
    "    \n",
    "    play_again = input(\"Do you want to play again? (yes/no): \").lower()\n",
    "    if play_again != \"yes\":\n",
    "        break"
   ]
  },
  {
   "cell_type": "code",
   "execution_count": 20,
   "id": "4ecda3e0-dff2-43fb-acc8-6802b12bfbf5",
   "metadata": {},
   "outputs": [],
   "source": [
    "'''23. Develop a program that generates a random password based on user preferences'''\n",
    "\n",
    "# code\n",
    "def validPassword(pwd: str):\n",
    "    if 8 <= len(pwd) <= 32 and pwd[0].isalpha() and all(char not in pwd for char in [\" \", \"'\", \"/\", \"=\", '\"', '\\\\']):\n",
    "        return True\n",
    "    else:\n",
    "        return False\n"
   ]
  },
  {
   "cell_type": "code",
   "execution_count": 22,
   "id": "1d4c6679-70bb-4fb3-9b65-59b47d394268",
   "metadata": {},
   "outputs": [
    {
     "data": {
      "text/plain": [
       "True"
      ]
     },
     "execution_count": 22,
     "metadata": {},
     "output_type": "execute_result"
    }
   ],
   "source": [
    "validPassword('sam12345')"
   ]
  },
  {
   "cell_type": "code",
   "execution_count": null,
   "id": "840e6352-3684-49a7-819f-d805ee72804b",
   "metadata": {},
   "outputs": [],
   "source": [
    "'''24. Create a program that implements a simple text-based adventure game with branching scenarios.''\n",
    "        "
   ]
  },
  {
   "cell_type": "code",
   "execution_count": 2,
   "id": "77985405-f535-48a8-a000-8122b75fba7a",
   "metadata": {},
   "outputs": [
    {
     "name": "stdout",
     "output_type": "stream",
     "text": [
      "Equation 1:\n",
      "Eq(x + y, 1)\n",
      "Equation 2\n",
      "Eq(x - y, 1)\n",
      "Values of 2 unknown variable are as follows:\n",
      "{x: 1, y: 0}\n"
     ]
    }
   ],
   "source": [
    "'''25. Build a program that solves a linear equation for x, considering different cases.'''\n",
    "\n",
    "#code\n",
    "from sympy import symbols, Eq, solve\n",
    "  \n",
    "# defining symbols used in equations\n",
    "# or unknown variables\n",
    "x, y = symbols('x,y')\n",
    "  \n",
    "# defining equations\n",
    "eq1 = Eq((x+y), 1)\n",
    "print(\"Equation 1:\")\n",
    "print(eq1)\n",
    "eq2 = Eq((x-y), 1)\n",
    "print(\"Equation 2\")\n",
    "print(eq2)\n",
    "  \n",
    "# solving the equation\n",
    "print(\"Values of 2 unknown variable are as follows:\") \n",
    "print(solve((eq1, eq2), (x, y)))"
   ]
  },
  {
   "cell_type": "code",
   "execution_count": null,
   "id": "44378731-7dbd-4f88-80a6-9f05d3fcd3bd",
   "metadata": {},
   "outputs": [],
   "source": [
    "'''26. Write a program that simulates a basic quiz game with multiple-choice questions and scoring.'''\n",
    "# code"
   ]
  },
  {
   "cell_type": "code",
   "execution_count": 12,
   "id": "17a29471-1113-42ad-a0e8-8b2ddea47604",
   "metadata": {},
   "outputs": [
    {
     "name": "stdout",
     "output_type": "stream",
     "text": [
      "2011 is a prime year\n"
     ]
    }
   ],
   "source": [
    "'''27. Develop a program that determines whether a given year is a prime number or not.'''\n",
    "\n",
    "# code\n",
    "year = 2011\n",
    "\n",
    "if year > 1:\n",
    " \n",
    "    for i in range(2, int(year/2)+1):\n",
    "        \n",
    "        if (year % i) == 0:\n",
    "            print(year, \"is not a prime year\")\n",
    "            break\n",
    "    else:\n",
    "        print(year, \"is a prime year\")\n",
    "else:\n",
    "    print(year, \"is not a prime year\")"
   ]
  },
  {
   "cell_type": "code",
   "execution_count": 13,
   "id": "85bb3e86-d07a-4289-860c-03d3ac21922e",
   "metadata": {},
   "outputs": [
    {
     "name": "stdin",
     "output_type": "stream",
     "text": [
      "Enter a:  3\n",
      "Enter b:  5\n",
      "Enter c:  9\n"
     ]
    },
    {
     "name": "stdout",
     "output_type": "stream",
     "text": [
      "3.0 < 5.0 < 9.0\n"
     ]
    }
   ],
   "source": [
    "'''28. Create a program that sorts three numbers in ascending order using conditional statements.'''\n",
    "\n",
    "# code\n",
    "a = float(input(\"Enter a: \"))\n",
    "b = float(input(\"Enter b: \"))\n",
    "c = float(input(\"Enter c: \"))\n",
    "if a < b:\n",
    "    if b < c:\n",
    "        print (a, \"<\", b, \"<\", c)\n",
    "    else:\n",
    "        if a < c:\n",
    "            print (a, \"<\", c, \"<\", b)\n",
    "        else:\n",
    "            print (c, \"<\", a, \"<\", b)\n",
    "else:\n",
    "    if c < b:\n",
    "        print (c, \"<\", b, \"<\", a)\n",
    "    else:\n",
    "        if c < a:\n",
    "            print (b, \"<\", c, \"<\", a)\n",
    "        else:\n",
    "            print (b, \"<\", a, \"<\", c)"
   ]
  },
  {
   "cell_type": "code",
   "execution_count": 15,
   "id": "ce9635b3-f17a-44b5-a1db-b53dc8b09bce",
   "metadata": {},
   "outputs": [
    {
     "name": "stdin",
     "output_type": "stream",
     "text": [
      "Enter a:  45\n",
      "Enter b:  50\n",
      "Enter c:  100\n"
     ]
    },
    {
     "name": "stdout",
     "output_type": "stream",
     "text": [
      "The solution are (-0.5555555555555556-1.3833221775543036j) and (-0.5555555555555556+1.3833221775543036j)\n"
     ]
    }
   ],
   "source": [
    "'''29. Build a program that determines the roots of a quartic equation using numerical methods.'''\n",
    "\n",
    "# code\n",
    "import cmath  \n",
    "a = float(input('Enter a: '))  \n",
    "b = float(input('Enter b: '))  \n",
    "c = float(input('Enter c: '))  \n",
    "  \n",
    "# calculate the discriminant  \n",
    "d = (b**2) - (4*a*c)  \n",
    "  \n",
    "# find two solutions  \n",
    "sol1 = (-b-cmath.sqrt(d))/(2*a)  \n",
    "sol2 = (-b+cmath.sqrt(d))/(2*a)  \n",
    "print('The solution are {0} and {1}'.format(sol1,sol2)) "
   ]
  },
  {
   "cell_type": "code",
   "execution_count": 14,
   "id": "a4814278-3912-4900-aacd-fc36a94a116e",
   "metadata": {},
   "outputs": [
    {
     "name": "stdin",
     "output_type": "stream",
     "text": [
      "Enter your height in meters:  7.8\n",
      "Enter your weight in kg:  75\n"
     ]
    },
    {
     "name": "stdout",
     "output_type": "stream",
     "text": [
      "Welcome to the BMI calculator.\n",
      "Your BMI is:  1.23\n",
      "You are underweight.\n"
     ]
    }
   ],
   "source": [
    "'''30. Write a program that calculates the BMI (Body Mass Index) and provides health recommendations based\n",
    "on the user's input.'''\n",
    "\n",
    "# code\n",
    "def bodymassindex(height, weight):\n",
    "    return round((weight / height**2),2)\n",
    "\n",
    "\n",
    "h = float(input(\"Enter your height in meters: \"))\n",
    "w = float(input(\"Enter your weight in kg: \"))\n",
    "\n",
    "\n",
    "print(\"Welcome to the BMI calculator.\")\n",
    "\n",
    "bmi = bodymassindex(h, w)\n",
    "print(\"Your BMI is: \", bmi)\n",
    "\n",
    "\n",
    "if bmi <= 18.5:\n",
    "    print(\"You are underweight.\")\n",
    "elif 18.5 < bmi <= 24.9:\n",
    "    print(\"Your weight is normal.\")\n",
    "elif 25 < bmi <= 29.29:\n",
    "    print(\"You are overweight.\")\n",
    "else:\n",
    "    print(\"You are obese.\")"
   ]
  },
  {
   "cell_type": "code",
   "execution_count": null,
   "id": "a3b22a14-955f-44da-8201-a5e8274c1c3c",
   "metadata": {},
   "outputs": [],
   "source": []
  },
  {
   "cell_type": "code",
   "execution_count": null,
   "id": "816b0618-fa20-40a0-80e8-e21abc3417f9",
   "metadata": {},
   "outputs": [],
   "source": [
    "# Challenge Level:"
   ]
  },
  {
   "cell_type": "code",
   "execution_count": 16,
   "id": "24415554-ee57-486a-a665-8f9434002885",
   "metadata": {},
   "outputs": [
    {
     "name": "stdout",
     "output_type": "stream",
     "text": [
      "Valid password\n"
     ]
    }
   ],
   "source": [
    "'''31. Create a program that validates a password based on complexity rules (length, characters, etc.).'''\n",
    "\n",
    "# code\n",
    "import re  \n",
    "  \n",
    "def validate_password(password):  \n",
    "    if len(password) < 8:  \n",
    "        return False  \n",
    "    if not re.search(\"[a-z]\", password):  \n",
    "        return False  \n",
    "    if not re.search(\"[A-Z]\", password):  \n",
    "        return False  \n",
    "    if not re.search(\"[0-9]\", password):  \n",
    "        return False  \n",
    "    return True  \n",
    "  \n",
    "password = \"P@ssw0rd\"  \n",
    "if validate_password(password):  \n",
    "    print(\"Valid password\")  \n",
    "else:  \n",
    "    print(\"Invalid password\")"
   ]
  },
  {
   "cell_type": "code",
   "execution_count": 17,
   "id": "c211ae04-f7c9-4ca8-bb01-39629179b91c",
   "metadata": {},
   "outputs": [
    {
     "name": "stdout",
     "output_type": "stream",
     "text": [
      "Printing elements of first matrix\n",
      "[[1 2]\n",
      " [3 4]]\n",
      "Printing elements of second matrix\n",
      "[[4 5]\n",
      " [6 7]]\n",
      "Addition of two matrix\n",
      "[[ 5  7]\n",
      " [ 9 11]]\n"
     ]
    }
   ],
   "source": [
    "'''32. Develop a program that performs matrix addition and subtraction based on user input.'''\n",
    "\n",
    "# code\n",
    "import numpy as np \n",
    "# creating first matrix\n",
    "A = np.array([[1, 2], [3, 4]])\n",
    " \n",
    "# creating second matrix\n",
    "B = np.array([[4, 5], [6, 7]])\n",
    " \n",
    "print(\"Printing elements of first matrix\")\n",
    "print(A)\n",
    "print(\"Printing elements of second matrix\")\n",
    "print(B)\n",
    " \n",
    "# adding two matrix\n",
    "print(\"Addition of two matrix\")\n",
    "print(np.add(A, B))"
   ]
  },
  {
   "cell_type": "code",
   "execution_count": 18,
   "id": "55e7021f-a62a-45cd-9804-59a6b6703c9d",
   "metadata": {},
   "outputs": [
    {
     "name": "stdout",
     "output_type": "stream",
     "text": [
      "The gcd of 60 and 48 is : 12\n"
     ]
    }
   ],
   "source": [
    "'''33. Write a program that calculates the greatest common divisor (GCD) of two numbers using the Euclidean\n",
    "algorithm.'''\n",
    "\n",
    "# code\n",
    "import math\n",
    " \n",
    "# prints 12\n",
    "print(\"The gcd of 60 and 48 is : \", end=\"\")\n",
    "print(math.gcd(60, 48))"
   ]
  },
  {
   "cell_type": "code",
   "execution_count": 20,
   "id": "4d3149c8-f0e3-48f5-a868-4266a358970c",
   "metadata": {},
   "outputs": [
    {
     "name": "stdout",
     "output_type": "stream",
     "text": [
      "[[0, 46], [0, 46], [0, 176], [0, 176], [0, 0], [0, 0]]\n"
     ]
    }
   ],
   "source": [
    "'''34. Build a program that performs matrix multiplication using nested loops and conditional statements.'''\n",
    "\n",
    "# code\n",
    "A = [[1,2,3],[5,3,1],[7,9,8]]\n",
    "B = [[3,4],[12,4],[8,14]]\n",
    " \n",
    "# retrieving the sizes/dimensions of the matrices\n",
    "p = len(A)\n",
    "q = len(A[0])\n",
    " \n",
    "t = len(B)\n",
    "r = len(B[0])\n",
    " \n",
    "if(q!=t):\n",
    "    print(\"Error! Matrix sizes are not compatible\")\n",
    "    quit() \n",
    "# creating the product matrix of dimensions p×r\n",
    "# and filling the matrix with 0 entries\n",
    "C = []\n",
    "for row in range(p):\n",
    "    curr_row = []\n",
    "    for col in range(r):\n",
    "        curr_row.append(0)\n",
    "        C.append(curr_row) \n",
    "# performing the matrix multiplication\n",
    "for i in range(p):\n",
    "    for j in range(r):\n",
    "        curr_val = 0\n",
    "    for k in range(q):\n",
    "        curr_val += A[i][k]*B[k][j]\n",
    "        C[i][j] = curr_val \n",
    "print(C)"
   ]
  },
  {
   "cell_type": "code",
   "execution_count": null,
   "id": "0d04d207-b982-4542-81dd-24d74de3cb31",
   "metadata": {},
   "outputs": [],
   "source": [
    "'''35. Create a program that simulates a basic text-based tic-tac-toe game against the computer.'''\n",
    "\n",
    "# code"
   ]
  },
  {
   "cell_type": "code",
   "execution_count": 48,
   "id": "ed2a7fe0-c11a-49b7-8b3d-fbe55d8ac60c",
   "metadata": {},
   "outputs": [
    {
     "name": "stdout",
     "output_type": "stream",
     "text": [
      "34\n"
     ]
    }
   ],
   "source": [
    "'''36. Write a program that generates Fibonacci numbers up to a specified term using iterative methods.'''\n",
    "\n",
    " # code\n",
    "def Fibonacci(n):\n",
    "    if n<= 0:\n",
    "        print(\"Incorrect input\")\n",
    "    # First Fibonacci number is 0\n",
    "    elif n == 1:\n",
    "        return 0\n",
    "    # Second Fibonacci number is 1\n",
    "    elif n == 2:\n",
    "        return 1\n",
    "    else:\n",
    "        return Fibonacci(n-1)+Fibonacci(n-2) \n",
    "# Driver Program\n",
    " \n",
    "print(Fibonacci(10))"
   ]
  },
  {
   "cell_type": "code",
   "execution_count": 49,
   "id": "2dd7557c-76f3-4759-9947-141caa5fcd04",
   "metadata": {},
   "outputs": [
    {
     "name": "stdout",
     "output_type": "stream",
     "text": [
      "   November 2014\n",
      "Mo Tu We Th Fr Sa Su\n",
      "                1  2\n",
      " 3  4  5  6  7  8  9\n",
      "10 11 12 13 14 15 16\n",
      "17 18 19 20 21 22 23\n",
      "24 25 26 27 28 29 30\n",
      "\n"
     ]
    }
   ],
   "source": [
    "'''38. Create a program that generates a calendar for a given month and year using conditional statements.'''\n",
    "\n",
    "# code\n",
    "import calendar\n",
    "\n",
    "yy = 2014  # year\n",
    "mm = 11    # month\n",
    "\n",
    "# To take month and year input from the user\n",
    "# yy = int(input(\"Enter year: \"))\n",
    "# mm = int(input(\"Enter month: \"))\n",
    "\n",
    "# display the calendar\n",
    "print(calendar.month(yy, mm))"
   ]
  },
  {
   "cell_type": "code",
   "execution_count": 50,
   "id": "7dd74f8d-780c-41dc-9bba-51d677394f60",
   "metadata": {},
   "outputs": [
    {
     "name": "stdout",
     "output_type": "stream",
     "text": [
      "11 is a prime number\n"
     ]
    }
   ],
   "source": [
    "'''40. Write a program that generates the prime factors of a given number using trial division.'''\n",
    "\n",
    "# code\n",
    "num = 11\n",
    "# If given number is greater than 1\n",
    "if num > 1:\n",
    "    # Iterate from 2 to n / 2\n",
    "    for i in range(2, int(num/2)+1):\n",
    "        # If num is divisible by any number between\n",
    "        # 2 and n / 2, it is not prime\n",
    "        if (num % i) == 0:\n",
    "            print(num, \"is not a prime number\")\n",
    "            break\n",
    "    else:\n",
    "        print(num, \"is a prime number\")\n",
    "else:\n",
    "    print(num, \"is not a prime number\")"
   ]
  },
  {
   "cell_type": "code",
   "execution_count": null,
   "id": "5c6e72ce-d29a-4d2b-af13-d2252d07d0fd",
   "metadata": {},
   "outputs": [],
   "source": []
  }
 ],
 "metadata": {
  "kernelspec": {
   "display_name": "Python 3 (ipykernel)",
   "language": "python",
   "name": "python3"
  },
  "language_info": {
   "codemirror_mode": {
    "name": "ipython",
    "version": 3
   },
   "file_extension": ".py",
   "mimetype": "text/x-python",
   "name": "python",
   "nbconvert_exporter": "python",
   "pygments_lexer": "ipython3",
   "version": "3.10.8"
  }
 },
 "nbformat": 4,
 "nbformat_minor": 5
}
